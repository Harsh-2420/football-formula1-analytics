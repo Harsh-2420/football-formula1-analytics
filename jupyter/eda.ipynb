{
 "cells": [
  {
   "cell_type": "code",
   "execution_count": null,
   "metadata": {},
   "outputs": [
    {
     "ename": "",
     "evalue": "",
     "output_type": "error",
     "traceback": [
      "\u001b[1;31mRunning cells with 'Python 3.9.12 ('f1')' requires ipykernel package.\n",
      "Run the following command to install 'ipykernel' into the Python environment. \n",
      "Command: 'conda install -n f1 ipykernel --update-deps --force-reinstall'"
     ]
    }
   ],
   "source": [
    "import numpy as np\n",
    "import pandas as pd\n",
    "import matplotlib.pyplot as plt\n",
    "import fastf1"
   ]
  },
  {
   "cell_type": "code",
   "execution_count": null,
   "metadata": {},
   "outputs": [],
   "source": [
    "fastf1.Cache.enable_cache('path/to/folder/for/cache')  \n",
    "session = fastf1.get_session(2019, 'Monza', 'Q')\n",
    "session.load(telemetry=False, laps=False, weather=False)\n",
    "vettel = session.get_driver('VET')\n",
    "print(f\"Pronto {vettel['FirstName']}?\")"
   ]
  }
 ],
 "metadata": {
  "interpreter": {
   "hash": "845c0f4b743433e89d60858a668c7fb11cfd7900e1559a5f294846f7228e2820"
  },
  "kernelspec": {
   "display_name": "Python 3.9.11 ('base')",
   "language": "python",
   "name": "python3"
  },
  "language_info": {
   "name": "python",
   "version": "3.9.12"
  },
  "orig_nbformat": 4
 },
 "nbformat": 4,
 "nbformat_minor": 2
}
