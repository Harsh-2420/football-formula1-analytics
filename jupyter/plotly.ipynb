{
 "cells": [
  {
   "cell_type": "code",
   "execution_count": 1,
   "metadata": {},
   "outputs": [],
   "source": [
    "import numpy as np\n",
    "import pandas as pd\n",
    "import matplotlib.pyplot as plt\n",
    "import fastf1\n",
    "import plotly.express as px\n",
    "import fastf1.plotting\n",
    "import datetime\n",
    "import requests\n",
    "from datetime import timedelta\n",
    "\n",
    "fastf1.Cache.enable_cache('../f1_cache')  "
   ]
  },
  {
   "cell_type": "code",
   "execution_count": 2,
   "metadata": {},
   "outputs": [
    {
     "name": "stderr",
     "output_type": "stream",
     "text": [
      "core           INFO \tLoading data for Emilia Romagna Grand Prix - Race [v2.2.3]\n",
      "api            INFO \tUsing cached data for driver_info\n",
      "api            INFO \tUsing cached data for timing_data\n",
      "api            INFO \tUsing cached data for timing_app_data\n",
      "core           INFO \tProcessing timing data...\n",
      "api            INFO \tUsing cached data for session_status_data\n",
      "api            INFO \tUsing cached data for track_status_data\n",
      "api            INFO \tUsing cached data for car_data\n",
      "api            INFO \tUsing cached data for position_data\n",
      "api            INFO \tUsing cached data for weather_data\n",
      "core           INFO \tFinished loading data for 20 drivers: ['1', '11', '4', '63', '77', '16', '22', '5', '20', '18', '23', '10', '44', '31', '24', '6', '47', '3', '14', '55']\n"
     ]
    }
   ],
   "source": [
    "selected_year = 2022\n",
    "fastf1_session = fastf1.get_session(selected_year, 'Emilia Romagna', 'Race')\n",
    "fastf1_session.load(telemetry=True, laps=True, weather=True)"
   ]
  },
  {
   "cell_type": "markdown",
   "metadata": {},
   "source": [
    "# LapTime vs LapNumber"
   ]
  },
  {
   "cell_type": "code",
   "execution_count": 37,
   "metadata": {},
   "outputs": [],
   "source": [
    "selected_drivers = ['HAM', 'RIC']\n",
    "lap_time_number = fastf1_session.laps[['Driver', 'LapTime', 'Compound', 'TyreLife', 'LapNumber']].copy()\n",
    "lap_time_number = lap_time_number[lap_time_number['Driver'].isin(selected_drivers)]\n",
    "lap_time_number['LapTime'] = lap_time_number['LapTime'].fillna(timedelta(0))\n",
    "lap_time_number['Compound'] = lap_time_number['Compound'].fillna(\"\")\n",
    "lap_time_number['Year'] = selected_year\n",
    "lap_time_number['TyreLife'] = lap_time_number['TyreLife'].fillna(-1)\n",
    "lap_time_number['LapTime'] = pd.to_numeric(lap_time_number['LapTime'])/1000000\n",
    "lap_time_number_cov = lap_time_number.to_dict('records')\n",
    "final_dict = {}\n",
    "for data in lap_time_number_cov:\n",
    "    primary_key = data['Driver']\n",
    "    data[primary_key] = data.pop('LapTime')\n",
    "\n",
    "    # color\n",
    "    driv_lap = fastf1_session.laps.pick_driver(primary_key).pick_fastest()\n",
    "    color = fastf1.plotting.team_color(driv_lap['Team'])\n",
    "    data['color'] = color\n",
    "\n",
    "    if primary_key not in final_dict:\n",
    "        final_dict[primary_key] = [data]\n",
    "    else:\n",
    "        final_dict[primary_key].append(data)\n",
    "\n",
    "# for driv in final_dict:\n",
    "#     thelist = final_dict[driv]\n",
    "#     thelist[:] = [d for d in thelist if d.get(driv) != 0]"
   ]
  },
  {
   "cell_type": "markdown",
   "metadata": {},
   "source": [
    "# Team Color Setup"
   ]
  },
  {
   "cell_type": "code",
   "execution_count": 93,
   "metadata": {},
   "outputs": [],
   "source": [
    "team_color_pair = {'Red Bull Racing': '#0600ef',\n",
    " 'Williams': '#ADD8E6',\n",
    " 'Mercedes': '#900000',\n",
    " 'AlphaTauri': '#3e454d',\n",
    " 'Alpine': '#0090ff',\n",
    " 'Ferrari': '#dc0000',\n",
    " 'Alpha Romeo': '#900000',\n",
    " 'Haas': '#ffffff',\n",
    "\n",
    " 'McLaren': '#ffa112',\n",
    "\n",
    " 'Aston Martin': '#006f62',\n",
    "}"
   ]
  },
  {
   "cell_type": "code",
   "execution_count": 95,
   "metadata": {},
   "outputs": [
    {
     "name": "stdout",
     "output_type": "stream",
     "text": [
      "Red Bull Racing\n",
      "Red Bull Racing\n",
      "Mercedes\n",
      "Williams\n",
      "Alfa Romeo\n",
      "Mercedes\n",
      "AlphaTauri\n",
      "Alpine\n",
      "Alpine\n",
      "nan\n",
      "Ferrari\n",
      "nan\n",
      "nan\n",
      "Haas F1 Team\n",
      "AlphaTauri\n",
      "nan\n",
      "McLaren\n",
      "McLaren\n",
      "Aston Martin\n",
      "Aston Martin\n",
      "nan\n",
      "Haas F1 Team\n",
      "Alfa Romeo\n"
     ]
    },
    {
     "name": "stderr",
     "output_type": "stream",
     "text": [
      "/Users/harsh/miniconda3/envs/f1/lib/python3.9/site-packages/fastf1/core.py:2082: FutureWarning: The default dtype for empty Series will be 'object' instead of 'float64' in a future version. Specify a dtype explicitly to silence this warning.\n",
      "  super().__init__(*args, **kwargs)\n"
     ]
    }
   ],
   "source": [
    "selected_drivers = ['VER', 'PER', 'RUS', 'LAT', 'BOT', \"HAM\", 'GAS', 'ALO', 'OCO', 'SAI', 'LEC', 'RAI', 'GIO', 'MSC', 'TSU', 'MAZ', 'NOR', 'RIC', 'VET', 'STR', 'HUL', 'MAG', 'ZHO']\n",
    "for driver in selected_drivers:\n",
    "    driv_lap = fastf1_session.laps.pick_driver(driver).pick_fastest()\n",
    "    print(driv_lap['Team'])\n",
    "    # try:\n",
    "    #     team = driv_lap['Team']\n",
    "    #     color = team_color_pair[team]\n",
    "    # except:\n",
    "    #     color = \"#fffff\""
   ]
  },
  {
   "cell_type": "markdown",
   "metadata": {},
   "source": [
    "# Telemetry"
   ]
  },
  {
   "cell_type": "code",
   "execution_count": 46,
   "metadata": {},
   "outputs": [],
   "source": [
    "selected_drivers = ['HAM', 'ALO', 'LAT']\n",
    "\n",
    "driv_tel = {}\n",
    "for driver in selected_drivers:\n",
    "    driv_lap = fastf1_session.laps.pick_driver(driver).pick_fastest()\n",
    "    color = fastf1.plotting.team_color(driv_lap['Team'])\n",
    "    driv_tel[driver] = driv_lap.get_telemetry(\n",
    "    )[['Speed', 'Distance', 'RPM', 'nGear', 'Throttle', 'Brake', 'DRS', 'X', 'Y']]\n",
    "    driv_tel[driver]['Brake'] = driv_tel[driver]['Brake'].astype(int)\n",
    "    driv_tel[driver]['color'] = color\n",
    "    driv_tel[driver] = driv_tel[driver].to_dict('records')"
   ]
  },
  {
   "cell_type": "markdown",
   "metadata": {},
   "source": [
    "# Map Plot"
   ]
  },
  {
   "cell_type": "code",
   "execution_count": 241,
   "metadata": {},
   "outputs": [
    {
     "data": {
      "image/png": "[encoded data removed]",
      "text/plain": [
       "<Figure size 432x288 with 1 Axes>"
      ]
     },
     "metadata": {
      "needs_background": "light"
     },
     "output_type": "display_data"
    }
   ],
   "source": [
    "lap = fastf1_session.laps.pick_fastest()\n",
    "tel = lap.get_telemetry()\n",
    "\n",
    "x = np.array(tel['X'].values)\n",
    "y = np.array(tel['Y'].values)\n",
    "plt.plot(x, y)\n",
    "plt.show()\n",
    "\n",
    "points = np.array([x, y]).T.reshape(-1, 1, 2)\n",
    "# segments = np.concatenate([points[:-1], points[1:]], axis=1)\n",
    "# gear = tel['nGear'].to_numpy().astype(float)"
   ]
  },
  {
   "cell_type": "markdown",
   "metadata": {},
   "source": [
    "# Weather"
   ]
  },
  {
   "cell_type": "code",
   "execution_count": 138,
   "metadata": {},
   "outputs": [
    {
     "data": {
      "text/html": [
       "<div>\n",
       "<style scoped>\n",
       "    .dataframe tbody tr th:only-of-type {\n",
       "        vertical-align: middle;\n",
       "    }\n",
       "\n",
       "    .dataframe tbody tr th {\n",
       "        vertical-align: top;\n",
       "    }\n",
       "\n",
       "    .dataframe thead th {\n",
       "        text-align: right;\n",
       "    }\n",
       "</style>\n",
       "<table border=\"1\" class=\"dataframe\">\n",
       "  <thead>\n",
       "    <tr style=\"text-align: right;\">\n",
       "      <th></th>\n",
       "      <th>Time</th>\n",
       "      <th>AirTemp</th>\n",
       "      <th>Humidity</th>\n",
       "      <th>Pressure</th>\n",
       "      <th>Rainfall</th>\n",
       "      <th>TrackTemp</th>\n",
       "      <th>WindDirection</th>\n",
       "      <th>WindSpeed</th>\n",
       "    </tr>\n",
       "  </thead>\n",
       "  <tbody>\n",
       "    <tr>\n",
       "      <th>0</th>\n",
       "      <td>0 days 00:00:43.040000</td>\n",
       "      <td>20.9</td>\n",
       "      <td>56.4</td>\n",
       "      <td>1014.8</td>\n",
       "      <td>False</td>\n",
       "      <td>29.9</td>\n",
       "      <td>6</td>\n",
       "      <td>1.0</td>\n",
       "    </tr>\n",
       "    <tr>\n",
       "      <th>1</th>\n",
       "      <td>0 days 00:01:43.040000</td>\n",
       "      <td>20.8</td>\n",
       "      <td>56.8</td>\n",
       "      <td>1014.8</td>\n",
       "      <td>False</td>\n",
       "      <td>29.9</td>\n",
       "      <td>8</td>\n",
       "      <td>1.1</td>\n",
       "    </tr>\n",
       "    <tr>\n",
       "      <th>2</th>\n",
       "      <td>0 days 00:02:43.040000</td>\n",
       "      <td>20.8</td>\n",
       "      <td>56.8</td>\n",
       "      <td>1014.7</td>\n",
       "      <td>False</td>\n",
       "      <td>30.2</td>\n",
       "      <td>11</td>\n",
       "      <td>1.0</td>\n",
       "    </tr>\n",
       "    <tr>\n",
       "      <th>3</th>\n",
       "      <td>0 days 00:03:43.039000</td>\n",
       "      <td>20.8</td>\n",
       "      <td>56.7</td>\n",
       "      <td>1014.8</td>\n",
       "      <td>False</td>\n",
       "      <td>30.2</td>\n",
       "      <td>7</td>\n",
       "      <td>1.0</td>\n",
       "    </tr>\n",
       "    <tr>\n",
       "      <th>4</th>\n",
       "      <td>0 days 00:04:43.041000</td>\n",
       "      <td>20.8</td>\n",
       "      <td>56.1</td>\n",
       "      <td>1014.8</td>\n",
       "      <td>False</td>\n",
       "      <td>29.9</td>\n",
       "      <td>0</td>\n",
       "      <td>0.9</td>\n",
       "    </tr>\n",
       "    <tr>\n",
       "      <th>...</th>\n",
       "      <td>...</td>\n",
       "      <td>...</td>\n",
       "      <td>...</td>\n",
       "      <td>...</td>\n",
       "      <td>...</td>\n",
       "      <td>...</td>\n",
       "      <td>...</td>\n",
       "      <td>...</td>\n",
       "    </tr>\n",
       "    <tr>\n",
       "      <th>128</th>\n",
       "      <td>0 days 02:08:43.160000</td>\n",
       "      <td>20.5</td>\n",
       "      <td>54.2</td>\n",
       "      <td>1015.2</td>\n",
       "      <td>False</td>\n",
       "      <td>26.0</td>\n",
       "      <td>1</td>\n",
       "      <td>0.6</td>\n",
       "    </tr>\n",
       "    <tr>\n",
       "      <th>129</th>\n",
       "      <td>0 days 02:09:43.158000</td>\n",
       "      <td>20.6</td>\n",
       "      <td>53.6</td>\n",
       "      <td>1015.2</td>\n",
       "      <td>False</td>\n",
       "      <td>26.1</td>\n",
       "      <td>5</td>\n",
       "      <td>0.7</td>\n",
       "    </tr>\n",
       "    <tr>\n",
       "      <th>130</th>\n",
       "      <td>0 days 02:10:43.158000</td>\n",
       "      <td>20.6</td>\n",
       "      <td>52.6</td>\n",
       "      <td>1015.1</td>\n",
       "      <td>False</td>\n",
       "      <td>26.2</td>\n",
       "      <td>8</td>\n",
       "      <td>0.9</td>\n",
       "    </tr>\n",
       "    <tr>\n",
       "      <th>131</th>\n",
       "      <td>0 days 02:11:43.162000</td>\n",
       "      <td>20.6</td>\n",
       "      <td>52.7</td>\n",
       "      <td>1015.2</td>\n",
       "      <td>False</td>\n",
       "      <td>26.2</td>\n",
       "      <td>21</td>\n",
       "      <td>1.0</td>\n",
       "    </tr>\n",
       "    <tr>\n",
       "      <th>132</th>\n",
       "      <td>0 days 02:12:43.164000</td>\n",
       "      <td>20.6</td>\n",
       "      <td>52.7</td>\n",
       "      <td>1015.1</td>\n",
       "      <td>False</td>\n",
       "      <td>26.1</td>\n",
       "      <td>9</td>\n",
       "      <td>0.9</td>\n",
       "    </tr>\n",
       "  </tbody>\n",
       "</table>\n",
       "<p>133 rows × 8 columns</p>\n",
       "</div>"
      ],
      "text/plain": [
       "                      Time  AirTemp  Humidity  Pressure  Rainfall  TrackTemp  \\\n",
       "0   0 days 00:00:43.040000     20.9      56.4    1014.8     False       29.9   \n",
       "1   0 days 00:01:43.040000     20.8      56.8    1014.8     False       29.9   \n",
       "2   0 days 00:02:43.040000     20.8      56.8    1014.7     False       30.2   \n",
       "3   0 days 00:03:43.039000     20.8      56.7    1014.8     False       30.2   \n",
       "4   0 days 00:04:43.041000     20.8      56.1    1014.8     False       29.9   \n",
       "..                     ...      ...       ...       ...       ...        ...   \n",
       "128 0 days 02:08:43.160000     20.5      54.2    1015.2     False       26.0   \n",
       "129 0 days 02:09:43.158000     20.6      53.6    1015.2     False       26.1   \n",
       "130 0 days 02:10:43.158000     20.6      52.6    1015.1     False       26.2   \n",
       "131 0 days 02:11:43.162000     20.6      52.7    1015.2     False       26.2   \n",
       "132 0 days 02:12:43.164000     20.6      52.7    1015.1     False       26.1   \n",
       "\n",
       "     WindDirection  WindSpeed  \n",
       "0                6        1.0  \n",
       "1                8        1.1  \n",
       "2               11        1.0  \n",
       "3                7        1.0  \n",
       "4                0        0.9  \n",
       "..             ...        ...  \n",
       "128              1        0.6  \n",
       "129              5        0.7  \n",
       "130              8        0.9  \n",
       "131             21        1.0  \n",
       "132              9        0.9  \n",
       "\n",
       "[133 rows x 8 columns]"
      ]
     },
     "execution_count": 138,
     "metadata": {},
     "output_type": "execute_result"
    }
   ],
   "source": [
    "fastf1_session.weather_data"
   ]
  },
  {
   "cell_type": "code",
   "execution_count": 139,
   "metadata": {},
   "outputs": [
    {
     "data": {
      "text/plain": [
       "<bound method Lap.get_weather_data of Time                      0 days 02:09:51.444000\n",
       "DriverNumber                                  77\n",
       "LapTime                   0 days 00:01:32.090000\n",
       "LapNumber                                   56.0\n",
       "Stint                                        4.0\n",
       "PitOutTime                                   NaT\n",
       "PitInTime                                    NaT\n",
       "Sector1Time               0 days 00:00:29.640000\n",
       "Sector2Time               0 days 00:00:39.508000\n",
       "Sector3Time               0 days 00:00:22.942000\n",
       "Sector1SessionTime        0 days 02:08:48.994000\n",
       "Sector2SessionTime        0 days 02:09:28.502000\n",
       "Sector3SessionTime        0 days 02:09:51.444000\n",
       "SpeedI1                                    239.0\n",
       "SpeedI2                                    266.0\n",
       "SpeedFL                                    279.0\n",
       "SpeedST                                    293.0\n",
       "IsPersonalBest                              True\n",
       "Compound                                  MEDIUM\n",
       "TyreLife                                     5.0\n",
       "FreshTyre                                  False\n",
       "LapStartTime              0 days 02:08:19.354000\n",
       "Team                                    Mercedes\n",
       "Driver                                       BOT\n",
       "TrackStatus                                    1\n",
       "IsAccurate                                  True\n",
       "LapStartDate          2021-03-28 16:38:19.364000\n",
       "Name: 167, dtype: object>"
      ]
     },
     "execution_count": 139,
     "metadata": {},
     "output_type": "execute_result"
    }
   ],
   "source": [
    "fastf1_session.laps.pick_fastest().get_weather_data"
   ]
  },
  {
   "cell_type": "code",
   "execution_count": 184,
   "metadata": {},
   "outputs": [],
   "source": [
    "# fastf1_session.laps.pick_fastest().get_telemetry\n",
    "# fastf1_session.laps.pick_track_status(how=\"equals\", status='1')\n",
    "# fastf1_session.laps.pick_driver(\"HAM\").pick_fastest()\n",
    "# fastf1_session.laps.pick_driver(\"HAM\").get_telemetry().slice_by_lap(ref_laps=fastf1_session.laps.pick_driver(\"BOT\").pick_fastest())"
   ]
  },
  {
   "cell_type": "code",
   "execution_count": null,
   "metadata": {},
   "outputs": [],
   "source": []
  },
  {
   "cell_type": "code",
   "execution_count": null,
   "metadata": {},
   "outputs": [],
   "source": []
  }
 ],
 "metadata": {
  "interpreter": {
   "hash": "83244fc75ff76f901b23836256937dde79d06975152126052017f413defbe545"
  },
  "kernelspec": {
   "display_name": "Python 3.9.12 ('f1')",
   "language": "python",
   "name": "python3"
  },
  "language_info": {
   "codemirror_mode": {
    "name": "ipython",
    "version": 3
   },
   "file_extension": ".py",
   "mimetype": "text/x-python",
   "name": "python",
   "nbconvert_exporter": "python",
   "pygments_lexer": "ipython3",
   "version": "3.9.12"
  },
  "orig_nbformat": 4
 },
 "nbformat": 4,
 "nbformat_minor": 2
}
