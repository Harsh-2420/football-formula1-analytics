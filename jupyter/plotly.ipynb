{
 "cells": [
  {
   "cell_type": "code",
   "execution_count": 40,
   "metadata": {},
   "outputs": [],
   "source": [
    "import numpy as np\n",
    "import pandas as pd\n",
    "import matplotlib.pyplot as plt\n",
    "import fastf1\n",
    "import plotly.express as px\n",
    "import fastf1.plotting\n",
    "import datetime\n",
    "import requests\n",
    "from datetime import timedelta\n",
    "\n",
    "fastf1.Cache.enable_cache('../f1_cache')  "
   ]
  },
  {
   "cell_type": "code",
   "execution_count": 75,
   "metadata": {},
   "outputs": [
    {
     "name": "stderr",
     "output_type": "stream",
     "text": [
      "core           INFO \tLoading data for Australian Grand Prix - Race [v2.2.3]\n",
      "api            INFO \tUsing cached data for driver_info\n",
      "api            INFO \tUsing cached data for timing_data\n",
      "api            INFO \tUsing cached data for timing_app_data\n",
      "core           INFO \tProcessing timing data...\n",
      "api            INFO \tUsing cached data for session_status_data\n",
      "api            INFO \tUsing cached data for track_status_data\n",
      "core           INFO \tFinished loading data for 20 drivers: ['16', '11', '63', '44', '4', '3', '31', '77', '10', '23', '24', '18', '47', '20', '22', '6', '14', '1', '5', '55']\n"
     ]
    }
   ],
   "source": [
    "selected_year = 2022\n",
    "fastf1_session = fastf1.get_session(selected_year, 'Australian', 'Race')\n",
    "fastf1_session.load(telemetry=False, laps=True, weather=False)"
   ]
  },
  {
   "cell_type": "markdown",
   "metadata": {},
   "source": [
    "# LapTime vs LapNumber"
   ]
  },
  {
   "cell_type": "code",
   "execution_count": 37,
   "metadata": {},
   "outputs": [],
   "source": [
    "selected_drivers = ['HAM', 'RIC']\n",
    "lap_time_number = fastf1_session.laps[['Driver', 'LapTime', 'Compound', 'TyreLife', 'LapNumber']].copy()\n",
    "lap_time_number = lap_time_number[lap_time_number['Driver'].isin(selected_drivers)]\n",
    "lap_time_number['LapTime'] = lap_time_number['LapTime'].fillna(timedelta(0))\n",
    "lap_time_number['Compound'] = lap_time_number['Compound'].fillna(\"\")\n",
    "lap_time_number['Year'] = selected_year\n",
    "lap_time_number['TyreLife'] = lap_time_number['TyreLife'].fillna(-1)\n",
    "lap_time_number['LapTime'] = pd.to_numeric(lap_time_number['LapTime'])/1000000\n",
    "lap_time_number_cov = lap_time_number.to_dict('records')\n",
    "final_dict = {}\n",
    "for data in lap_time_number_cov:\n",
    "    primary_key = data['Driver']\n",
    "    data[primary_key] = data.pop('LapTime')\n",
    "\n",
    "    # color\n",
    "    driv_lap = fastf1_session.laps.pick_driver(primary_key).pick_fastest()\n",
    "    color = fastf1.plotting.team_color(driv_lap['Team'])\n",
    "    data['color'] = color\n",
    "\n",
    "    if primary_key not in final_dict:\n",
    "        final_dict[primary_key] = [data]\n",
    "    else:\n",
    "        final_dict[primary_key].append(data)\n",
    "\n",
    "# for driv in final_dict:\n",
    "#     thelist = final_dict[driv]\n",
    "#     thelist[:] = [d for d in thelist if d.get(driv) != 0]"
   ]
  },
  {
   "cell_type": "markdown",
   "metadata": {},
   "source": [
    "# Team Color Setup"
   ]
  },
  {
   "cell_type": "code",
   "execution_count": 73,
   "metadata": {},
   "outputs": [],
   "source": [
    "team_color_pair = {'VER': '#1a5d57',\n",
    " 'PER': '#0600ef',\n",
    " 'RUS': '#005aff',\n",
    " 'LAT': '#005aff',\n",
    " 'BOT': '#00d2be',\n",
    " 'HAM': '#00d2be',\n",
    " 'GAS': '#2b4562',\n",
    " 'ALO': '#0090ff',\n",
    " 'OCO': '#0090ff',\n",
    " 'SAI': '#dc0000',\n",
    " 'LEC': '#dc0000',\n",
    " 'RAI': '#900000',\n",
    " 'GIO': '#900000',\n",
    " 'MSC': '#ffffff',\n",
    " 'TSU': '#2b4562',\n",
    " 'MAZ': '#ffffff',\n",
    " 'NOR': '#ff8700',\n",
    " 'RIC': '#ff8700',\n",
    " 'VET': '#006f62',\n",
    " 'HUL': \"006f62\"\n",
    " 'STR': '#006f62'}"
   ]
  },
  {
   "cell_type": "code",
   "execution_count": 83,
   "metadata": {},
   "outputs": [
    {
     "name": "stdout",
     "output_type": "stream",
     "text": [
      "Time                 NaN\n",
      "DriverNumber         NaN\n",
      "LapTime              NaN\n",
      "LapNumber            NaN\n",
      "Stint                NaN\n",
      "PitOutTime           NaN\n",
      "PitInTime            NaN\n",
      "Sector1Time          NaN\n",
      "Sector2Time          NaN\n",
      "Sector3Time          NaN\n",
      "Sector1SessionTime   NaN\n",
      "Sector2SessionTime   NaN\n",
      "Sector3SessionTime   NaN\n",
      "SpeedI1              NaN\n",
      "SpeedI2              NaN\n",
      "SpeedFL              NaN\n",
      "SpeedST              NaN\n",
      "IsPersonalBest       NaN\n",
      "Compound             NaN\n",
      "TyreLife             NaN\n",
      "FreshTyre            NaN\n",
      "LapStartTime         NaN\n",
      "Team                 NaN\n",
      "Driver               NaN\n",
      "TrackStatus          NaN\n",
      "IsAccurate           NaN\n",
      "dtype: float64\n"
     ]
    },
    {
     "ename": "KeyError",
     "evalue": "'HUL'",
     "output_type": "error",
     "traceback": [
      "\u001b[0;31m---------------------------------------------------------------------------\u001b[0m",
      "\u001b[0;31mAttributeError\u001b[0m                            Traceback (most recent call last)",
      "\u001b[1;32m/Users/harsh/Desktop/Projects/formula1/jupyter/plotly.ipynb Cell 7'\u001b[0m in \u001b[0;36m<cell line: 4>\u001b[0;34m()\u001b[0m\n\u001b[1;32m      <a href='vscode-notebook-cell:/Users/harsh/Desktop/Projects/formula1/jupyter/plotly.ipynb#ch0000020?line=6'>7</a>\u001b[0m     \u001b[39mprint\u001b[39m(driv_lap)\n\u001b[0;32m----> <a href='vscode-notebook-cell:/Users/harsh/Desktop/Projects/formula1/jupyter/plotly.ipynb#ch0000020?line=7'>8</a>\u001b[0m     color \u001b[39m=\u001b[39m fastf1\u001b[39m.\u001b[39;49mplotting\u001b[39m.\u001b[39;49mteam_color(driv_lap[\u001b[39m'\u001b[39;49m\u001b[39mTeam\u001b[39;49m\u001b[39m'\u001b[39;49m])\n\u001b[1;32m      <a href='vscode-notebook-cell:/Users/harsh/Desktop/Projects/formula1/jupyter/plotly.ipynb#ch0000020?line=8'>9</a>\u001b[0m \u001b[39mexcept\u001b[39;00m:\n",
      "File \u001b[0;32m~/miniconda3/envs/f1/lib/python3.9/site-packages/fastf1/plotting.py:182\u001b[0m, in \u001b[0;36mteam_color\u001b[0;34m(identifier)\u001b[0m\n\u001b[1;32m    <a href='file:///Users/harsh/miniconda3/envs/f1/lib/python3.9/site-packages/fastf1/plotting.py?line=142'>143</a>\u001b[0m \u001b[39m\"\"\"Get a team's color from a team name or abbreviation.\u001b[39;00m\n\u001b[1;32m    <a href='file:///Users/harsh/miniconda3/envs/f1/lib/python3.9/site-packages/fastf1/plotting.py?line=143'>144</a>\u001b[0m \n\u001b[1;32m    <a href='file:///Users/harsh/miniconda3/envs/f1/lib/python3.9/site-packages/fastf1/plotting.py?line=144'>145</a>\u001b[0m \u001b[39mThis function will try to find a matching team for any identifier string\u001b[39;00m\n\u001b[0;32m   (...)\u001b[0m\n\u001b[1;32m    <a href='file:///Users/harsh/miniconda3/envs/f1/lib/python3.9/site-packages/fastf1/plotting.py?line=179'>180</a>\u001b[0m \u001b[39m    str: hex color code\u001b[39;00m\n\u001b[1;32m    <a href='file:///Users/harsh/miniconda3/envs/f1/lib/python3.9/site-packages/fastf1/plotting.py?line=180'>181</a>\u001b[0m \u001b[39m\"\"\"\u001b[39;00m\n\u001b[0;32m--> <a href='file:///Users/harsh/miniconda3/envs/f1/lib/python3.9/site-packages/fastf1/plotting.py?line=181'>182</a>\u001b[0m \u001b[39mif\u001b[39;00m identifier\u001b[39m.\u001b[39;49mupper() \u001b[39min\u001b[39;00m TEAM_TRANSLATE:\n\u001b[1;32m    <a href='file:///Users/harsh/miniconda3/envs/f1/lib/python3.9/site-packages/fastf1/plotting.py?line=182'>183</a>\u001b[0m     \u001b[39m# try short team abbreviations first\u001b[39;00m\n\u001b[1;32m    <a href='file:///Users/harsh/miniconda3/envs/f1/lib/python3.9/site-packages/fastf1/plotting.py?line=183'>184</a>\u001b[0m     \u001b[39mreturn\u001b[39;00m TEAM_COLORS[TEAM_TRANSLATE[identifier\u001b[39m.\u001b[39mupper()]]\n",
      "\u001b[0;31mAttributeError\u001b[0m: 'numpy.float64' object has no attribute 'upper'",
      "\nDuring handling of the above exception, another exception occurred:\n",
      "\u001b[0;31mKeyError\u001b[0m                                  Traceback (most recent call last)",
      "\u001b[1;32m/Users/harsh/Desktop/Projects/formula1/jupyter/plotly.ipynb Cell 7'\u001b[0m in \u001b[0;36m<cell line: 4>\u001b[0;34m()\u001b[0m\n\u001b[1;32m      <a href='vscode-notebook-cell:/Users/harsh/Desktop/Projects/formula1/jupyter/plotly.ipynb#ch0000020?line=7'>8</a>\u001b[0m         color \u001b[39m=\u001b[39m fastf1\u001b[39m.\u001b[39mplotting\u001b[39m.\u001b[39mteam_color(driv_lap[\u001b[39m'\u001b[39m\u001b[39mTeam\u001b[39m\u001b[39m'\u001b[39m])\n\u001b[1;32m      <a href='vscode-notebook-cell:/Users/harsh/Desktop/Projects/formula1/jupyter/plotly.ipynb#ch0000020?line=8'>9</a>\u001b[0m     \u001b[39mexcept\u001b[39;00m:\n\u001b[0;32m---> <a href='vscode-notebook-cell:/Users/harsh/Desktop/Projects/formula1/jupyter/plotly.ipynb#ch0000020?line=9'>10</a>\u001b[0m         color \u001b[39m=\u001b[39m team_color_pair[driver]\n\u001b[1;32m     <a href='vscode-notebook-cell:/Users/harsh/Desktop/Projects/formula1/jupyter/plotly.ipynb#ch0000020?line=10'>11</a>\u001b[0m     pairs[driver] \u001b[39m=\u001b[39m color\n\u001b[1;32m     <a href='vscode-notebook-cell:/Users/harsh/Desktop/Projects/formula1/jupyter/plotly.ipynb#ch0000020?line=11'>12</a>\u001b[0m pairs\n",
      "\u001b[0;31mKeyError\u001b[0m: 'HUL'"
     ]
    }
   ],
   "source": [
    "pairs = {}\n",
    "selected_drivers = ['VER', 'PER', 'RUS', 'LAT', 'BOT', \"HAM\", 'GAS', 'ALO', 'OCO', 'SAI', 'LEC', 'RAI', 'GIO', 'MSC', 'TSU', 'MAZ', 'NOR', 'RIC', 'VET', 'STR', 'HUL', 'MAG']\n",
    "selected_drivers = ['HUL']\n",
    "for driver in selected_drivers:\n",
    "    driv_lap = fastf1_session.laps.pick_driver(driver).pick_fastest()\n",
    "    try:\n",
    "        print(driv_lap)\n",
    "        color = fastf1.plotting.team_color(driv_lap['Team'])\n",
    "    except:\n",
    "        color = team_color_pair[driver]\n",
    "    pairs[driver] = color\n",
    "pairs"
   ]
  },
  {
   "cell_type": "markdown",
   "metadata": {},
   "source": [
    "## Speed vs Distance"
   ]
  },
  {
   "cell_type": "code",
   "execution_count": 45,
   "metadata": {},
   "outputs": [],
   "source": [
    "selected_drivers = ['HAM', 'ALO', 'LAT']\n",
    "final_dict = {}\n",
    "for driver in selected_drivers:\n",
    "    driv_tel = {}\n",
    "    driv_lap = fastf1_session.laps.pick_driver(driver).pick_fastest()\n",
    "    color = fastf1.plotting.team_color(driv_lap['Team'])\n",
    "    driv_tel['Data'] = driv_lap.get_car_data().add_distance()[['Speed', 'Distance']].rename(columns={\"Speed\": driver}).to_dict('records')\n",
    "    driv_tel['Color'] = color\n",
    "    final_dict[driver] = driv_tel"
   ]
  },
  {
   "cell_type": "code",
   "execution_count": 73,
   "metadata": {},
   "outputs": [
    {
     "data": {
      "text/html": [
       "<div>\n",
       "<style scoped>\n",
       "    .dataframe tbody tr th:only-of-type {\n",
       "        vertical-align: middle;\n",
       "    }\n",
       "\n",
       "    .dataframe tbody tr th {\n",
       "        vertical-align: top;\n",
       "    }\n",
       "\n",
       "    .dataframe thead th {\n",
       "        text-align: right;\n",
       "    }\n",
       "</style>\n",
       "<table border=\"1\" class=\"dataframe\">\n",
       "  <thead>\n",
       "    <tr style=\"text-align: right;\">\n",
       "      <th></th>\n",
       "      <th>Date</th>\n",
       "      <th>RPM</th>\n",
       "      <th>Speed</th>\n",
       "      <th>nGear</th>\n",
       "      <th>Throttle</th>\n",
       "      <th>Brake</th>\n",
       "      <th>DRS</th>\n",
       "      <th>Source</th>\n",
       "      <th>Time</th>\n",
       "      <th>SessionTime</th>\n",
       "    </tr>\n",
       "  </thead>\n",
       "  <tbody>\n",
       "    <tr>\n",
       "      <th>0</th>\n",
       "      <td>2021-09-12 13:06:29.974</td>\n",
       "      <td>11315</td>\n",
       "      <td>313</td>\n",
       "      <td>8</td>\n",
       "      <td>100</td>\n",
       "      <td>False</td>\n",
       "      <td>1</td>\n",
       "      <td>car</td>\n",
       "      <td>0 days 00:00:00.231000</td>\n",
       "      <td>0 days 01:05:28.365000</td>\n",
       "    </tr>\n",
       "    <tr>\n",
       "      <th>1</th>\n",
       "      <td>2021-09-12 13:06:30.214</td>\n",
       "      <td>11393</td>\n",
       "      <td>315</td>\n",
       "      <td>8</td>\n",
       "      <td>100</td>\n",
       "      <td>False</td>\n",
       "      <td>1</td>\n",
       "      <td>car</td>\n",
       "      <td>0 days 00:00:00.471000</td>\n",
       "      <td>0 days 01:05:28.605000</td>\n",
       "    </tr>\n",
       "    <tr>\n",
       "      <th>2</th>\n",
       "      <td>2021-09-12 13:06:30.454</td>\n",
       "      <td>11481</td>\n",
       "      <td>317</td>\n",
       "      <td>8</td>\n",
       "      <td>100</td>\n",
       "      <td>False</td>\n",
       "      <td>1</td>\n",
       "      <td>car</td>\n",
       "      <td>0 days 00:00:00.711000</td>\n",
       "      <td>0 days 01:05:28.845000</td>\n",
       "    </tr>\n",
       "    <tr>\n",
       "      <th>3</th>\n",
       "      <td>2021-09-12 13:06:30.694</td>\n",
       "      <td>11509</td>\n",
       "      <td>318</td>\n",
       "      <td>8</td>\n",
       "      <td>100</td>\n",
       "      <td>False</td>\n",
       "      <td>1</td>\n",
       "      <td>car</td>\n",
       "      <td>0 days 00:00:00.951000</td>\n",
       "      <td>0 days 01:05:29.085000</td>\n",
       "    </tr>\n",
       "    <tr>\n",
       "      <th>4</th>\n",
       "      <td>2021-09-12 13:06:30.934</td>\n",
       "      <td>11573</td>\n",
       "      <td>320</td>\n",
       "      <td>8</td>\n",
       "      <td>100</td>\n",
       "      <td>False</td>\n",
       "      <td>1</td>\n",
       "      <td>car</td>\n",
       "      <td>0 days 00:00:01.191000</td>\n",
       "      <td>0 days 01:05:29.325000</td>\n",
       "    </tr>\n",
       "    <tr>\n",
       "      <th>...</th>\n",
       "      <td>...</td>\n",
       "      <td>...</td>\n",
       "      <td>...</td>\n",
       "      <td>...</td>\n",
       "      <td>...</td>\n",
       "      <td>...</td>\n",
       "      <td>...</td>\n",
       "      <td>...</td>\n",
       "      <td>...</td>\n",
       "      <td>...</td>\n",
       "    </tr>\n",
       "    <tr>\n",
       "      <th>351</th>\n",
       "      <td>2021-09-12 13:07:54.415</td>\n",
       "      <td>10978</td>\n",
       "      <td>302</td>\n",
       "      <td>8</td>\n",
       "      <td>100</td>\n",
       "      <td>False</td>\n",
       "      <td>0</td>\n",
       "      <td>car</td>\n",
       "      <td>0 days 00:01:24.672000</td>\n",
       "      <td>0 days 01:06:52.806000</td>\n",
       "    </tr>\n",
       "    <tr>\n",
       "      <th>352</th>\n",
       "      <td>2021-09-12 13:07:54.655</td>\n",
       "      <td>11002</td>\n",
       "      <td>304</td>\n",
       "      <td>8</td>\n",
       "      <td>100</td>\n",
       "      <td>False</td>\n",
       "      <td>0</td>\n",
       "      <td>car</td>\n",
       "      <td>0 days 00:01:24.912000</td>\n",
       "      <td>0 days 01:06:53.046000</td>\n",
       "    </tr>\n",
       "    <tr>\n",
       "      <th>353</th>\n",
       "      <td>2021-09-12 13:07:54.895</td>\n",
       "      <td>11134</td>\n",
       "      <td>306</td>\n",
       "      <td>8</td>\n",
       "      <td>100</td>\n",
       "      <td>False</td>\n",
       "      <td>0</td>\n",
       "      <td>car</td>\n",
       "      <td>0 days 00:01:25.152000</td>\n",
       "      <td>0 days 01:06:53.286000</td>\n",
       "    </tr>\n",
       "    <tr>\n",
       "      <th>354</th>\n",
       "      <td>2021-09-12 13:07:55.135</td>\n",
       "      <td>11157</td>\n",
       "      <td>309</td>\n",
       "      <td>8</td>\n",
       "      <td>100</td>\n",
       "      <td>False</td>\n",
       "      <td>0</td>\n",
       "      <td>car</td>\n",
       "      <td>0 days 00:01:25.392000</td>\n",
       "      <td>0 days 01:06:53.526000</td>\n",
       "    </tr>\n",
       "    <tr>\n",
       "      <th>355</th>\n",
       "      <td>2021-09-12 13:07:55.375</td>\n",
       "      <td>11250</td>\n",
       "      <td>311</td>\n",
       "      <td>8</td>\n",
       "      <td>100</td>\n",
       "      <td>False</td>\n",
       "      <td>0</td>\n",
       "      <td>car</td>\n",
       "      <td>0 days 00:01:25.632000</td>\n",
       "      <td>0 days 01:06:53.766000</td>\n",
       "    </tr>\n",
       "  </tbody>\n",
       "</table>\n",
       "<p>356 rows × 10 columns</p>\n",
       "</div>"
      ],
      "text/plain": [
       "                       Date    RPM  Speed  nGear  Throttle  Brake  DRS Source  \\\n",
       "0   2021-09-12 13:06:29.974  11315    313      8       100  False    1    car   \n",
       "1   2021-09-12 13:06:30.214  11393    315      8       100  False    1    car   \n",
       "2   2021-09-12 13:06:30.454  11481    317      8       100  False    1    car   \n",
       "3   2021-09-12 13:06:30.694  11509    318      8       100  False    1    car   \n",
       "4   2021-09-12 13:06:30.934  11573    320      8       100  False    1    car   \n",
       "..                      ...    ...    ...    ...       ...    ...  ...    ...   \n",
       "351 2021-09-12 13:07:54.415  10978    302      8       100  False    0    car   \n",
       "352 2021-09-12 13:07:54.655  11002    304      8       100  False    0    car   \n",
       "353 2021-09-12 13:07:54.895  11134    306      8       100  False    0    car   \n",
       "354 2021-09-12 13:07:55.135  11157    309      8       100  False    0    car   \n",
       "355 2021-09-12 13:07:55.375  11250    311      8       100  False    0    car   \n",
       "\n",
       "                      Time            SessionTime  \n",
       "0   0 days 00:00:00.231000 0 days 01:05:28.365000  \n",
       "1   0 days 00:00:00.471000 0 days 01:05:28.605000  \n",
       "2   0 days 00:00:00.711000 0 days 01:05:28.845000  \n",
       "3   0 days 00:00:00.951000 0 days 01:05:29.085000  \n",
       "4   0 days 00:00:01.191000 0 days 01:05:29.325000  \n",
       "..                     ...                    ...  \n",
       "351 0 days 00:01:24.672000 0 days 01:06:52.806000  \n",
       "352 0 days 00:01:24.912000 0 days 01:06:53.046000  \n",
       "353 0 days 00:01:25.152000 0 days 01:06:53.286000  \n",
       "354 0 days 00:01:25.392000 0 days 01:06:53.526000  \n",
       "355 0 days 00:01:25.632000 0 days 01:06:53.766000  \n",
       "\n",
       "[356 rows x 10 columns]"
      ]
     },
     "execution_count": 73,
     "metadata": {},
     "output_type": "execute_result"
    }
   ],
   "source": [
    "driv_lap = fastf1_session.laps.pick_driver(\"HAM\").pick_fastest()\n",
    "driv_lap.get_car_data()\n"
   ]
  },
  {
   "cell_type": "code",
   "execution_count": null,
   "metadata": {},
   "outputs": [],
   "source": []
  },
  {
   "cell_type": "code",
   "execution_count": null,
   "metadata": {},
   "outputs": [],
   "source": []
  },
  {
   "cell_type": "code",
   "execution_count": null,
   "metadata": {},
   "outputs": [],
   "source": []
  },
  {
   "cell_type": "code",
   "execution_count": null,
   "metadata": {},
   "outputs": [],
   "source": []
  },
  {
   "cell_type": "code",
   "execution_count": 36,
   "metadata": {},
   "outputs": [],
   "source": [
    "f1_season = fastf1.get_event_schedule(int(2021))\n",
    "event_records = f1_season[['RoundNumber', 'EventName']]\n",
    "round_number = pd.DataFrame(event_records)[event_records['EventName'] == 'Monaco Grand Prix']['RoundNumber']"
   ]
  },
  {
   "cell_type": "code",
   "execution_count": 43,
   "metadata": {},
   "outputs": [
    {
     "data": {
      "text/plain": [
       "numpy.int64"
      ]
     },
     "execution_count": 43,
     "metadata": {},
     "output_type": "execute_result"
    }
   ],
   "source": [
    "type(round_number.iloc[0])"
   ]
  },
  {
   "cell_type": "code",
   "execution_count": 21,
   "metadata": {},
   "outputs": [],
   "source": [
    "driver_list = [x[:3] for x in requests.get(\n",
    "            \"http://ergast.com/api/f1/{}/{}/drivers\".format(2021, round_number))]"
   ]
  },
  {
   "cell_type": "code",
   "execution_count": 24,
   "metadata": {},
   "outputs": [
    {
     "data": {
      "text/plain": [
       "'<html>\\r\\n  <head>\\r\\n    <title>Error</title>\\r\\n  </head>\\r\\n  <body>\\r\\n    <h3>Bad Request</h3>\\r\\n  </body>\\r\\n</html>\\r\\n'"
      ]
     },
     "execution_count": 24,
     "metadata": {},
     "output_type": "execute_result"
    }
   ],
   "source": [
    "requests.get(\"http://ergast.com/api/f1/{}/{}/drivers\".format(2021, round_number)).text"
   ]
  },
  {
   "cell_type": "code",
   "execution_count": null,
   "metadata": {},
   "outputs": [],
   "source": []
  }
 ],
 "metadata": {
  "interpreter": {
   "hash": "83244fc75ff76f901b23836256937dde79d06975152126052017f413defbe545"
  },
  "kernelspec": {
   "display_name": "Python 3.9.12 ('f1')",
   "language": "python",
   "name": "python3"
  },
  "language_info": {
   "codemirror_mode": {
    "name": "ipython",
    "version": 3
   },
   "file_extension": ".py",
   "mimetype": "text/x-python",
   "name": "python",
   "nbconvert_exporter": "python",
   "pygments_lexer": "ipython3",
   "version": "3.9.12"
  },
  "orig_nbformat": 4
 },
 "nbformat": 4,
 "nbformat_minor": 2
}
