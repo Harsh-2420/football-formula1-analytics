{
 "cells": [
  {
   "cell_type": "code",
   "execution_count": 100,
   "metadata": {},
   "outputs": [],
   "source": [
    "import numpy as np\n",
    "import pandas as pd\n",
    "import matplotlib.pyplot as plt\n",
    "import fastf1\n",
    "import plotly.express as px\n",
    "import fastf1.plotting\n",
    "import datetime\n",
    "import requests\n",
    "from datetime import timedelta\n",
    "\n",
    "fastf1.Cache.enable_cache('../f1_cache')  "
   ]
  },
  {
   "cell_type": "code",
   "execution_count": 113,
   "metadata": {},
   "outputs": [
    {
     "name": "stderr",
     "output_type": "stream",
     "text": [
      "core           INFO \tLoading data for Bahrain Grand Prix - Race [v2.2.3]\n",
      "api            INFO \tUsing cached data for driver_info\n",
      "api            INFO \tUsing cached data for timing_data\n",
      "api            INFO \tUsing cached data for timing_app_data\n",
      "core           INFO \tProcessing timing data...\n",
      "api            INFO \tUsing cached data for session_status_data\n",
      "api            INFO \tUsing cached data for track_status_data\n",
      "api            INFO \tUsing cached data for car_data\n",
      "api            INFO \tUsing cached data for position_data\n",
      "core           INFO \tFinished loading data for 20 drivers: ['44', '33', '77', '4', '11', '16', '3', '55', '22', '18', '7', '99', '31', '63', '5', '47', '10', '6', '14', '9']\n"
     ]
    }
   ],
   "source": [
    "selected_year = 2021\n",
    "fastf1_session = fastf1.get_session(selected_year, 'Bahrain', 'Race')\n",
    "fastf1_session.load(telemetry=True, laps=True, weather=False)"
   ]
  },
  {
   "cell_type": "markdown",
   "metadata": {},
   "source": [
    "# LapTime vs LapNumber"
   ]
  },
  {
   "cell_type": "code",
   "execution_count": 37,
   "metadata": {},
   "outputs": [],
   "source": [
    "selected_drivers = ['HAM', 'RIC']\n",
    "lap_time_number = fastf1_session.laps[['Driver', 'LapTime', 'Compound', 'TyreLife', 'LapNumber']].copy()\n",
    "lap_time_number = lap_time_number[lap_time_number['Driver'].isin(selected_drivers)]\n",
    "lap_time_number['LapTime'] = lap_time_number['LapTime'].fillna(timedelta(0))\n",
    "lap_time_number['Compound'] = lap_time_number['Compound'].fillna(\"\")\n",
    "lap_time_number['Year'] = selected_year\n",
    "lap_time_number['TyreLife'] = lap_time_number['TyreLife'].fillna(-1)\n",
    "lap_time_number['LapTime'] = pd.to_numeric(lap_time_number['LapTime'])/1000000\n",
    "lap_time_number_cov = lap_time_number.to_dict('records')\n",
    "final_dict = {}\n",
    "for data in lap_time_number_cov:\n",
    "    primary_key = data['Driver']\n",
    "    data[primary_key] = data.pop('LapTime')\n",
    "\n",
    "    # color\n",
    "    driv_lap = fastf1_session.laps.pick_driver(primary_key).pick_fastest()\n",
    "    color = fastf1.plotting.team_color(driv_lap['Team'])\n",
    "    data['color'] = color\n",
    "\n",
    "    if primary_key not in final_dict:\n",
    "        final_dict[primary_key] = [data]\n",
    "    else:\n",
    "        final_dict[primary_key].append(data)\n",
    "\n",
    "# for driv in final_dict:\n",
    "#     thelist = final_dict[driv]\n",
    "#     thelist[:] = [d for d in thelist if d.get(driv) != 0]"
   ]
  },
  {
   "cell_type": "markdown",
   "metadata": {},
   "source": [
    "# Team Color Setup"
   ]
  },
  {
   "cell_type": "code",
   "execution_count": 93,
   "metadata": {},
   "outputs": [],
   "source": [
    "team_color_pair = {'Red Bull Racing': '#0600ef',\n",
    " 'Williams': '#ADD8E6',\n",
    " 'Mercedes': '#900000',\n",
    " 'AlphaTauri': '#3e454d',\n",
    " 'Alpine': '#0090ff',\n",
    " 'Ferrari': '#dc0000',\n",
    " 'Alpha Romeo': '#900000',\n",
    " 'Haas': '#ffffff',\n",
    "\n",
    " 'McLaren': '#ffa112',\n",
    "\n",
    " 'Aston Martin': '#006f62',\n",
    "}"
   ]
  },
  {
   "cell_type": "code",
   "execution_count": 95,
   "metadata": {},
   "outputs": [
    {
     "name": "stdout",
     "output_type": "stream",
     "text": [
      "Red Bull Racing\n",
      "Red Bull Racing\n",
      "Mercedes\n",
      "Williams\n",
      "Alfa Romeo\n",
      "Mercedes\n",
      "AlphaTauri\n",
      "Alpine\n",
      "Alpine\n",
      "nan\n",
      "Ferrari\n",
      "nan\n",
      "nan\n",
      "Haas F1 Team\n",
      "AlphaTauri\n",
      "nan\n",
      "McLaren\n",
      "McLaren\n",
      "Aston Martin\n",
      "Aston Martin\n",
      "nan\n",
      "Haas F1 Team\n",
      "Alfa Romeo\n"
     ]
    },
    {
     "name": "stderr",
     "output_type": "stream",
     "text": [
      "/Users/harsh/miniconda3/envs/f1/lib/python3.9/site-packages/fastf1/core.py:2082: FutureWarning: The default dtype for empty Series will be 'object' instead of 'float64' in a future version. Specify a dtype explicitly to silence this warning.\n",
      "  super().__init__(*args, **kwargs)\n"
     ]
    }
   ],
   "source": [
    "selected_drivers = ['VER', 'PER', 'RUS', 'LAT', 'BOT', \"HAM\", 'GAS', 'ALO', 'OCO', 'SAI', 'LEC', 'RAI', 'GIO', 'MSC', 'TSU', 'MAZ', 'NOR', 'RIC', 'VET', 'STR', 'HUL', 'MAG', 'ZHO']\n",
    "for driver in selected_drivers:\n",
    "    driv_lap = fastf1_session.laps.pick_driver(driver).pick_fastest()\n",
    "    print(driv_lap['Team'])\n",
    "    # try:\n",
    "    #     team = driv_lap['Team']\n",
    "    #     color = team_color_pair[team]\n",
    "    # except:\n",
    "    #     color = \"#fffff\""
   ]
  },
  {
   "cell_type": "markdown",
   "metadata": {},
   "source": [
    "# Speed vs Distance"
   ]
  },
  {
   "cell_type": "code",
   "execution_count": 116,
   "metadata": {},
   "outputs": [],
   "source": [
    "selected_drivers = ['HAM', 'ALO', 'LAT']\n",
    "\n",
    "driv_tel = {}\n",
    "for driver in selected_drivers:\n",
    "    driv_lap = fastf1_session.laps.pick_driver(driver).pick_fastest()\n",
    "    color = fastf1.plotting.team_color(driv_lap['Team'])\n",
    "    driv_tel[driver] = driv_lap.get_car_data().add_distance(\n",
    "    )[['Speed', 'Distance', 'RPM', 'nGear', 'Throttle', 'Brake', 'DRS']]\n",
    "    driv_tel[driver]['Brake'] = driv_tel[driver]['Brake'].astype(int)\n",
    "    driv_tel[driver]['color'] = color\n",
    "    # driv_tel[driver] = driv_tel[driver].to_dict('records')"
   ]
  },
  {
   "cell_type": "code",
   "execution_count": 120,
   "metadata": {},
   "outputs": [],
   "source": []
  },
  {
   "cell_type": "code",
   "execution_count": null,
   "metadata": {},
   "outputs": [],
   "source": []
  },
  {
   "cell_type": "code",
   "execution_count": null,
   "metadata": {},
   "outputs": [],
   "source": []
  },
  {
   "cell_type": "code",
   "execution_count": null,
   "metadata": {},
   "outputs": [],
   "source": []
  },
  {
   "cell_type": "code",
   "execution_count": 36,
   "metadata": {},
   "outputs": [],
   "source": [
    "f1_season = fastf1.get_event_schedule(int(2021))\n",
    "event_records = f1_season[['RoundNumber', 'EventName']]\n",
    "round_number = pd.DataFrame(event_records)[event_records['EventName'] == 'Monaco Grand Prix']['RoundNumber']"
   ]
  },
  {
   "cell_type": "code",
   "execution_count": 43,
   "metadata": {},
   "outputs": [
    {
     "data": {
      "text/plain": [
       "numpy.int64"
      ]
     },
     "execution_count": 43,
     "metadata": {},
     "output_type": "execute_result"
    }
   ],
   "source": [
    "type(round_number.iloc[0])"
   ]
  },
  {
   "cell_type": "code",
   "execution_count": 21,
   "metadata": {},
   "outputs": [],
   "source": [
    "driver_list = [x[:3] for x in requests.get(\n",
    "            \"http://ergast.com/api/f1/{}/{}/drivers\".format(2021, round_number))]"
   ]
  },
  {
   "cell_type": "code",
   "execution_count": 24,
   "metadata": {},
   "outputs": [
    {
     "data": {
      "text/plain": [
       "'<html>\\r\\n  <head>\\r\\n    <title>Error</title>\\r\\n  </head>\\r\\n  <body>\\r\\n    <h3>Bad Request</h3>\\r\\n  </body>\\r\\n</html>\\r\\n'"
      ]
     },
     "execution_count": 24,
     "metadata": {},
     "output_type": "execute_result"
    }
   ],
   "source": [
    "requests.get(\"http://ergast.com/api/f1/{}/{}/drivers\".format(2021, round_number)).text"
   ]
  },
  {
   "cell_type": "code",
   "execution_count": null,
   "metadata": {},
   "outputs": [],
   "source": []
  }
 ],
 "metadata": {
  "interpreter": {
   "hash": "83244fc75ff76f901b23836256937dde79d06975152126052017f413defbe545"
  },
  "kernelspec": {
   "display_name": "Python 3.9.12 ('f1')",
   "language": "python",
   "name": "python3"
  },
  "language_info": {
   "codemirror_mode": {
    "name": "ipython",
    "version": 3
   },
   "file_extension": ".py",
   "mimetype": "text/x-python",
   "name": "python",
   "nbconvert_exporter": "python",
   "pygments_lexer": "ipython3",
   "version": "3.9.12"
  },
  "orig_nbformat": 4
 },
 "nbformat": 4,
 "nbformat_minor": 2
}
