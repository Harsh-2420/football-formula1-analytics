{
 "cells": [
  {
   "cell_type": "code",
   "execution_count": 1,
   "metadata": {},
   "outputs": [],
   "source": [
    "import pandas as pd\n",
    "import numpy as np\n",
    "import requests\n",
    "import fastf1\n",
    "from datetime import timedelta\n",
    "from scipy import stats\n",
    "fastf1.Cache.enable_cache('./f1_cache')  \n",
    "import matplotlib.pyplot as plt\n",
    "import xmltodict"
   ]
  },
  {
   "cell_type": "code",
   "execution_count": 37,
   "metadata": {},
   "outputs": [],
   "source": [
    "final = []\n",
    "for lap in range(1, 40):\n",
    "    response = requests.get(\"http://ergast.com/api/f1/2022/5/laps/{lap}\".format(lap = lap))\n",
    "    dict_data = xmltodict.parse(response.content)\n",
    "    dat = dict_data['MRData']['RaceTable']['Race']['LapsList']['Lap']['Timing'][1]\n",
    "    final.append((dat['@driverId'],dat['@lap'],dat['@position'], dat['@time']))"
   ]
  },
  {
   "cell_type": "code",
   "execution_count": null,
   "metadata": {},
   "outputs": [],
   "source": []
  }
 ],
 "metadata": {
  "interpreter": {
   "hash": "83244fc75ff76f901b23836256937dde79d06975152126052017f413defbe545"
  },
  "kernelspec": {
   "display_name": "Python 3.9.12 ('f1')",
   "language": "python",
   "name": "python3"
  },
  "language_info": {
   "codemirror_mode": {
    "name": "ipython",
    "version": 3
   },
   "file_extension": ".py",
   "mimetype": "text/x-python",
   "name": "python",
   "nbconvert_exporter": "python",
   "pygments_lexer": "ipython3",
   "version": "3.9.12"
  },
  "orig_nbformat": 4
 },
 "nbformat": 4,
 "nbformat_minor": 2
}
