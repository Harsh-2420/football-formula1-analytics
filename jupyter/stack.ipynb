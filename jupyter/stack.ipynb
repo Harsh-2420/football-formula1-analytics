{
 "cells": [
  {
   "cell_type": "code",
   "execution_count": 32,
   "metadata": {},
   "outputs": [
    {
     "name": "stdout",
     "output_type": "stream",
     "text": [
      "LKE.AX    2530701568\n",
      "Name: marketCap, dtype: int64\n"
     ]
    },
    {
     "name": "stderr",
     "output_type": "stream",
     "text": [
      "/var/folders/j_/mcdhsvwn01j_0_3fk_6jrgv40000gn/T/ipykernel_69376/4098519576.py:15: FutureWarning: The default value of regex will change from True to False in a future version. In addition, single character regular expressions will *not* be treated as literal strings when regex=True.\n",
      "  df['Value'] = df['Value'].str.replace(',', '').str.replace('$', '')\\\n"
     ]
    }
   ],
   "source": [
    "import pandas as pd\n",
    "from urllib.request import Request, urlopen\n",
    "import csv\n",
    "import yfinance\n",
    "from pandas_datareader import data\n",
    "\n",
    "######## SCRAPING DIRECTOR TRADES #########\n",
    "req = Request('https://smallcaps.com.au/director-transactions/'\n",
    "              , headers={'User-Agent': 'Mozilla/5.0'})\n",
    "trades = urlopen(req).read()\n",
    "\n",
    "######## CLEANING DATA #########\n",
    "df = pd.read_html(trades)[0]\n",
    "del df['Director'],df['Company']\n",
    "df['Value'] = df['Value'].str.replace(',', '').str.replace('$', '')\\\n",
    "    .str.replace('↑', '').str.replace('↓', '-')\n",
    "df['Value'] = df['Value'].astype(int)\n",
    "df = df[:5]\n",
    "####### Instance of getting market cap that works ########\n",
    "print(data.get_quote_yahoo('LKE.AX')['marketCap'])"
   ]
  },
  {
   "cell_type": "code",
   "execution_count": 33,
   "metadata": {},
   "outputs": [],
   "source": [
    "######## New market cap column ########\n",
    "df['Code']=df['Code'] + \".AX\" #accounting for australian market by adding .AX"
   ]
  },
  {
   "cell_type": "code",
   "execution_count": 36,
   "metadata": {},
   "outputs": [],
   "source": [
    "MC=[]\n",
    "for code in df['Code']:\n",
    "    MC.append(data.get_quote_yahoo(code)['marketCap'])\n",
    "\n",
    "df['Market Cap']=list(MC) #Add MC list as a new column to dataframe\n",
    "# print(df)"
   ]
  },
  {
   "cell_type": "code",
   "execution_count": null,
   "metadata": {},
   "outputs": [],
   "source": []
  }
 ],
 "metadata": {
  "interpreter": {
   "hash": "83244fc75ff76f901b23836256937dde79d06975152126052017f413defbe545"
  },
  "kernelspec": {
   "display_name": "Python 3.9.12 ('f1')",
   "language": "python",
   "name": "python3"
  },
  "language_info": {
   "codemirror_mode": {
    "name": "ipython",
    "version": 3
   },
   "file_extension": ".py",
   "mimetype": "text/x-python",
   "name": "python",
   "nbconvert_exporter": "python",
   "pygments_lexer": "ipython3",
   "version": "3.9.12"
  },
  "orig_nbformat": 4
 },
 "nbformat": 4,
 "nbformat_minor": 2
}
