{
 "cells": [
  {
   "cell_type": "code",
   "execution_count": 1,
   "metadata": {},
   "outputs": [],
   "source": [
    "import requests\n",
    "import pandas as pd\n",
    "import csv\n",
    "import re\n",
    "import requests\n",
    "from bs4 import BeautifulSoup\n",
    "import urllib.request\n",
    "import datetime"
   ]
  },
  {
   "cell_type": "code",
   "execution_count": 130,
   "metadata": {},
   "outputs": [],
   "source": [
    "df = pd.read_csv('./football_data/spi_matches_latest.csv')\n",
    "\n",
    "df = df.drop(\n",
    "        df.index[df['date'] == 'date'])\n",
    "# df = df.fillna(0)\n",
    "df['date'] = pd.to_datetime(df['date'], errors='coerce')"
   ]
  },
  {
   "cell_type": "code",
   "execution_count": 131,
   "metadata": {},
   "outputs": [],
   "source": [
    "df = df[df['date'] > datetime.datetime.now()]\n",
    "df = df.drop_duplicates()\n",
    "df.sort_values('date', inplace=True)\n",
    "df = df.reset_index()"
   ]
  },
  {
   "cell_type": "code",
   "execution_count": 2,
   "metadata": {},
   "outputs": [],
   "source": [
    "matches = pd.read_csv('./football_data/spi_matches_latest.csv')['league'].unique()"
   ]
  },
  {
   "cell_type": "code",
   "execution_count": 4,
   "metadata": {},
   "outputs": [
    {
     "data": {
      "text/plain": [
       "['Chinese Super League',\n",
       " 'Danish SAS-Ligaen',\n",
       " 'Argentina Primera Division',\n",
       " 'Mexican Primera Division Torneo Apertura',\n",
       " 'Russian Premier Liga',\n",
       " 'Austrian T-Mobile Bundesliga',\n",
       " 'German 2. Bundesliga',\n",
       " 'Belgian Jupiler League',\n",
       " 'French Ligue 2',\n",
       " 'Swiss Raiffeisen Super League',\n",
       " 'Scottish Premiership',\n",
       " 'English League Championship',\n",
       " 'French Ligue 1',\n",
       " 'Portuguese Liga',\n",
       " 'English League One',\n",
       " 'English League Two',\n",
       " 'Turkish Turkcell Super Lig',\n",
       " 'Dutch Eredivisie',\n",
       " 'Spanish Segunda Division',\n",
       " 'German Bundesliga',\n",
       " 'Barclays Premier League',\n",
       " 'Spanish Primera Division',\n",
       " 'South African ABSA Premier League',\n",
       " 'Italy Serie B',\n",
       " 'Italy Serie A',\n",
       " \"FA Women's Super League\",\n",
       " 'Greek Super League',\n",
       " 'UEFA Europa Conference League',\n",
       " 'UEFA Champions League',\n",
       " 'UEFA Europa League',\n",
       " 'Australian A-League',\n",
       " 'Mexican Primera Division Torneo Clausura',\n",
       " 'Japanese J League',\n",
       " 'Major League Soccer',\n",
       " 'United Soccer League',\n",
       " 'NWSL Challenge Cup',\n",
       " 'Swedish Allsvenskan',\n",
       " 'Norwegian Tippeligaen',\n",
       " 'Brasileiro Série A',\n",
       " \"National Women's Soccer League\",\n",
       " 'league']"
      ]
     },
     "execution_count": 4,
     "metadata": {},
     "output_type": "execute_result"
    }
   ],
   "source": [
    "list(matches)"
   ]
  },
  {
   "cell_type": "code",
   "execution_count": null,
   "metadata": {},
   "outputs": [],
   "source": []
  }
 ],
 "metadata": {
  "interpreter": {
   "hash": "83244fc75ff76f901b23836256937dde79d06975152126052017f413defbe545"
  },
  "kernelspec": {
   "display_name": "Python 3.9.12 ('f1')",
   "language": "python",
   "name": "python3"
  },
  "language_info": {
   "codemirror_mode": {
    "name": "ipython",
    "version": 3
   },
   "file_extension": ".py",
   "mimetype": "text/x-python",
   "name": "python",
   "nbconvert_exporter": "python",
   "pygments_lexer": "ipython3",
   "version": "3.9.12"
  },
  "orig_nbformat": 4
 },
 "nbformat": 4,
 "nbformat_minor": 2
}
