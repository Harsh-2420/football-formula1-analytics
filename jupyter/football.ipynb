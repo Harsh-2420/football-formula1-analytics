{
 "cells": [
  {
   "cell_type": "code",
   "execution_count": 4,
   "metadata": {},
   "outputs": [],
   "source": [
    "import requests\n",
    "import pandas as pd\n",
    "import csv\n",
    "import re\n",
    "import requests\n",
    "from bs4 import BeautifulSoup\n",
    "import urllib.request\n",
    "\n",
    "team_dict = {}"
   ]
  },
  {
   "cell_type": "code",
   "execution_count": 5,
   "metadata": {},
   "outputs": [],
   "source": [
    "# url = \"https://api-football-beta.p.rapidapi.com/leagues\"\n",
    "# headers = {\n",
    "#     \"X-RapidAPI-Host\": \"api-football-beta.p.rapidapi.com\",\n",
    "#     \"X-RapidAPI-Key\": \"d78ca9f758msh31ad154b2fe50a8p12fbc9jsnabb8cabd4076\"\n",
    "# }\n",
    "# leagues = requests.request(\"GET\", url, headers=headers)"
   ]
  },
  {
   "cell_type": "code",
   "execution_count": 26,
   "metadata": {},
   "outputs": [],
   "source": [
    "url = \"https://api-football-beta.p.rapidapi.com/teams\"\n",
    "\n",
    "querystring = {\"league\":\"140\",\"season\":\"2019\"}\n",
    "\n",
    "headers = {\n",
    "\t\"X-RapidAPI-Host\": \"api-football-beta.p.rapidapi.com\",\n",
    "\t\"X-RapidAPI-Key\": \"d78ca9f758msh31ad154b2fe50a8p12fbc9jsnabb8cabd4076\"\n",
    "}\n",
    "\n",
    "response = requests.request(\"GET\", url, headers=headers, params=querystring)"
   ]
  },
  {
   "cell_type": "code",
   "execution_count": 27,
   "metadata": {},
   "outputs": [],
   "source": [
    "for team in response.json()['response']:\n",
    "    team_dict[team['team']['name']] = team['team']['logo']"
   ]
  },
  {
   "cell_type": "code",
   "execution_count": 32,
   "metadata": {},
   "outputs": [
    {
     "data": {
      "text/plain": [
       "{'Manchester United': 'https://media.api-sports.io/football/teams/33.png',\n",
       " 'Newcastle': 'https://media.api-sports.io/football/teams/34.png',\n",
       " 'Bournemouth': 'https://media.api-sports.io/football/teams/35.png',\n",
       " 'Watford': 'https://media.api-sports.io/football/teams/38.png',\n",
       " 'Wolves': 'https://media.api-sports.io/football/teams/39.png',\n",
       " 'Liverpool': 'https://media.api-sports.io/football/teams/40.png',\n",
       " 'Southampton': 'https://media.api-sports.io/football/teams/41.png',\n",
       " 'Arsenal': 'https://media.api-sports.io/football/teams/42.png',\n",
       " 'Burnley': 'https://media.api-sports.io/football/teams/44.png',\n",
       " 'Everton': 'https://media.api-sports.io/football/teams/45.png',\n",
       " 'Leicester': 'https://media.api-sports.io/football/teams/46.png',\n",
       " 'Tottenham': 'https://media.api-sports.io/football/teams/47.png',\n",
       " 'West Ham': 'https://media.api-sports.io/football/teams/48.png',\n",
       " 'Chelsea': 'https://media.api-sports.io/football/teams/49.png',\n",
       " 'Manchester City': 'https://media.api-sports.io/football/teams/50.png',\n",
       " 'Brighton': 'https://media.api-sports.io/football/teams/51.png',\n",
       " 'Crystal Palace': 'https://media.api-sports.io/football/teams/52.png',\n",
       " 'Sheffield Utd': 'https://media.api-sports.io/football/teams/62.png',\n",
       " 'Aston Villa': 'https://media.api-sports.io/football/teams/66.png',\n",
       " 'Norwich': 'https://media.api-sports.io/football/teams/71.png',\n",
       " 'Bayern Munich': 'https://media.api-sports.io/football/teams/157.png',\n",
       " 'Fortuna Dusseldorf': 'https://media.api-sports.io/football/teams/158.png',\n",
       " 'Hertha Berlin': 'https://media.api-sports.io/football/teams/159.png',\n",
       " 'SC Freiburg': 'https://media.api-sports.io/football/teams/160.png',\n",
       " 'VfL Wolfsburg': 'https://media.api-sports.io/football/teams/161.png',\n",
       " 'Werder Bremen': 'https://media.api-sports.io/football/teams/162.png',\n",
       " 'Borussia Monchengladbach': 'https://media.api-sports.io/football/teams/163.png',\n",
       " 'FSV Mainz 05': 'https://media.api-sports.io/football/teams/164.png',\n",
       " 'Borussia Dortmund': 'https://media.api-sports.io/football/teams/165.png',\n",
       " '1899 Hoffenheim': 'https://media.api-sports.io/football/teams/167.png',\n",
       " 'Bayer Leverkusen': 'https://media.api-sports.io/football/teams/168.png',\n",
       " 'Eintracht Frankfurt': 'https://media.api-sports.io/football/teams/169.png',\n",
       " 'FC Augsburg': 'https://media.api-sports.io/football/teams/170.png',\n",
       " 'RB Leipzig': 'https://media.api-sports.io/football/teams/173.png',\n",
       " 'FC Schalke 04': 'https://media.api-sports.io/football/teams/174.png',\n",
       " 'FC Heidenheim': 'https://media.api-sports.io/football/teams/180.png',\n",
       " 'Union Berlin': 'https://media.api-sports.io/football/teams/182.png',\n",
       " 'SC Paderborn 07': 'https://media.api-sports.io/football/teams/185.png',\n",
       " 'FC Koln': 'https://media.api-sports.io/football/teams/192.png',\n",
       " 'Barcelona': 'https://media.api-sports.io/football/teams/529.png',\n",
       " 'Atletico Madrid': 'https://media.api-sports.io/football/teams/530.png',\n",
       " 'Athletic Club': 'https://media.api-sports.io/football/teams/531.png',\n",
       " 'Valencia': 'https://media.api-sports.io/football/teams/532.png',\n",
       " 'Villarreal': 'https://media.api-sports.io/football/teams/533.png',\n",
       " 'Sevilla': 'https://media.api-sports.io/football/teams/536.png',\n",
       " 'Leganes': 'https://media.api-sports.io/football/teams/537.png',\n",
       " 'Celta Vigo': 'https://media.api-sports.io/football/teams/538.png',\n",
       " 'Levante': 'https://media.api-sports.io/football/teams/539.png',\n",
       " 'Espanyol': 'https://media.api-sports.io/football/teams/540.png',\n",
       " 'Real Madrid': 'https://media.api-sports.io/football/teams/541.png',\n",
       " 'Alaves': 'https://media.api-sports.io/football/teams/542.png',\n",
       " 'Real Betis': 'https://media.api-sports.io/football/teams/543.png',\n",
       " 'Eibar': 'https://media.api-sports.io/football/teams/545.png',\n",
       " 'Getafe': 'https://media.api-sports.io/football/teams/546.png',\n",
       " 'Real Sociedad': 'https://media.api-sports.io/football/teams/548.png',\n",
       " 'Granada CF': 'https://media.api-sports.io/football/teams/715.png',\n",
       " 'Valladolid': 'https://media.api-sports.io/football/teams/720.png',\n",
       " 'Osasuna': 'https://media.api-sports.io/football/teams/727.png',\n",
       " 'Mallorca': 'https://media.api-sports.io/football/teams/798.png'}"
      ]
     },
     "execution_count": 32,
     "metadata": {},
     "output_type": "execute_result"
    }
   ],
   "source": [
    "team_dict"
   ]
  },
  {
   "cell_type": "code",
   "execution_count": null,
   "metadata": {},
   "outputs": [],
   "source": []
  }
 ],
 "metadata": {
  "interpreter": {
   "hash": "83244fc75ff76f901b23836256937dde79d06975152126052017f413defbe545"
  },
  "kernelspec": {
   "display_name": "Python 3.9.12 ('f1')",
   "language": "python",
   "name": "python3"
  },
  "language_info": {
   "codemirror_mode": {
    "name": "ipython",
    "version": 3
   },
   "file_extension": ".py",
   "mimetype": "text/x-python",
   "name": "python",
   "nbconvert_exporter": "python",
   "pygments_lexer": "ipython3",
   "version": "3.9.12"
  },
  "orig_nbformat": 4
 },
 "nbformat": 4,
 "nbformat_minor": 2
}
