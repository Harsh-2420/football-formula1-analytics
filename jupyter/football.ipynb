{
 "cells": [
  {
   "cell_type": "code",
   "execution_count": 27,
   "metadata": {},
   "outputs": [],
   "source": [
    "import requests\n",
    "import pandas as pd\n",
    "import csv\n",
    "import re\n",
    "import requests\n",
    "from bs4 import BeautifulSoup\n",
    "import urllib.request"
   ]
  },
  {
   "cell_type": "code",
   "execution_count": 30,
   "metadata": {},
   "outputs": [],
   "source": [
    "import urllib.request\n",
    "with urllib.request.urlopen('https://projects.fivethirtyeight.com/soccer-api/club/spi_matches_latest.csv') as f:\n",
    "    html = f.read().decode('utf-8')\n",
    "\n",
    "with open(\"./data/spi_matches_latest.txt\", \"a\") as myfile:\n",
    "    myfile.write(html)\n",
    "\n",
    "with open('./data/spi_matches_latest.txt', 'r') as in_file:\n",
    "    stripped = (line.strip() for line in in_file)\n",
    "    lines = (line.split(\",\") for line in stripped if line)\n",
    "    with open('./data/spi_matches_latest.csv', 'w') as out_file:\n",
    "        writer = csv.writer(out_file)\n",
    "        # writer.writerow(('title', 'intro'))\n",
    "        writer.writerows(lines)"
   ]
  },
  {
   "cell_type": "code",
   "execution_count": 35,
   "metadata": {},
   "outputs": [],
   "source": [
    "basepath = 'https://projects.fivethirtyeight.com/soccer-api/club/'\n",
    "datapath = ['spi_matches_latest.csv', 'spi_matches.csv',\n",
    "            'spi_global_rankings.csv']\n",
    "for datacurr in datapath:\n",
    "    with urllib.request.urlopen(str(basepath + datacurr)) as f:\n",
    "        html = f.read().decode('utf-8')\n",
    "    with open(\"./football_data/unpack_data.txt\", \"a\") as myfile:\n",
    "        myfile.write(html)\n",
    "\n",
    "    with open('./football_data/unpack_data.txt', 'r') as in_file:\n",
    "        stripped = (line.strip() for line in in_file)\n",
    "        lines = (line.split(\",\") for line in stripped if line)\n",
    "        with open(str('./football_data/' + datacurr), 'w') as out_file:\n",
    "            writer = csv.writer(out_file)\n",
    "            writer.writerows(lines)"
   ]
  },
  {
   "cell_type": "code",
   "execution_count": null,
   "metadata": {},
   "outputs": [],
   "source": []
  }
 ],
 "metadata": {
  "interpreter": {
   "hash": "83244fc75ff76f901b23836256937dde79d06975152126052017f413defbe545"
  },
  "kernelspec": {
   "display_name": "Python 3.9.12 ('f1')",
   "language": "python",
   "name": "python3"
  },
  "language_info": {
   "codemirror_mode": {
    "name": "ipython",
    "version": 3
   },
   "file_extension": ".py",
   "mimetype": "text/x-python",
   "name": "python",
   "nbconvert_exporter": "python",
   "pygments_lexer": "ipython3",
   "version": "3.9.12"
  },
  "orig_nbformat": 4
 },
 "nbformat": 4,
 "nbformat_minor": 2
}
