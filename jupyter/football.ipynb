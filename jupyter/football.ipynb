{
 "cells": [
  {
   "cell_type": "code",
   "execution_count": 2,
   "metadata": {},
   "outputs": [],
   "source": [
    "import requests\n",
    "import pandas as pd\n",
    "import csv\n",
    "import re\n",
    "import requests\n",
    "from bs4 import BeautifulSoup\n",
    "import urllib.request"
   ]
  },
  {
   "cell_type": "code",
   "execution_count": 49,
   "metadata": {},
   "outputs": [],
   "source": [
    "import requests\n",
    "\n",
    "url = \"https://api-football-beta.p.rapidapi.com/leagues\"\n",
    "\n",
    "querystring = {\"id\":\"61\"}\n",
    "\n",
    "headers = {\n",
    "\t\"X-RapidAPI-Host\": \"api-football-beta.p.rapidapi.com\",\n",
    "\t\"X-RapidAPI-Key\": \"d78ca9f758msh31ad154b2fe50a8p12fbc9jsnabb8cabd4076\"\n",
    "}\n",
    "\n",
    "leagues = requests.request(\"GET\", url, headers=headers)\n"
   ]
  },
  {
   "cell_type": "code",
   "execution_count": 63,
   "metadata": {},
   "outputs": [],
   "source": [
    "leg = []\n",
    "for league in leagues.json()['response']:\n",
    "    leg.append((league['league']['name'], league['league']['logo']))"
   ]
  },
  {
   "cell_type": "code",
   "execution_count": 65,
   "metadata": {},
   "outputs": [],
   "source": [
    "df  = pd.read_csv('./football_data/spi_global_rankings.csv')"
   ]
  },
  {
   "cell_type": "code",
   "execution_count": 74,
   "metadata": {},
   "outputs": [
    {
     "data": {
      "text/plain": [
       "array(['Barclays Premier League', 'German Bundesliga',\n",
       "       'Spanish Primera Division', 'French Ligue 1', 'Dutch Eredivisie',\n",
       "       'Austrian T-Mobile Bundesliga', 'Italy Serie A', 'Portuguese Liga',\n",
       "       'Russian Premier Liga', 'Scottish Premiership',\n",
       "       'Brasileiro Série A', 'Belgian Jupiler League',\n",
       "       'UEFA Europa League', 'UEFA Europa Conference League',\n",
       "       'English League Championship', 'UEFA Champions League',\n",
       "       'Argentina Primera Division',\n",
       "       'Mexican Primera Division Torneo Clausura', 'Greek Super League',\n",
       "       'Turkish Turkcell Super Lig', 'Danish SAS-Ligaen',\n",
       "       'Norwegian Tippeligaen', 'French Ligue 2', 'Major League Soccer',\n",
       "       'Japanese J League', 'Swiss Raiffeisen Super League',\n",
       "       'German 2. Bundesliga', 'Swedish Allsvenskan', 'Italy Serie B',\n",
       "       'Spanish Segunda Division', 'Chinese Super League',\n",
       "       'South African ABSA Premier League', 'Australian A-League',\n",
       "       'English League One', 'United Soccer League', 'English League Two',\n",
       "       'league'], dtype=object)"
      ]
     },
     "execution_count": 74,
     "metadata": {},
     "output_type": "execute_result"
    }
   ],
   "source": [
    "image_d = {\n",
    "    'Barclays Premier League': 'Premier League', \n",
    "    'German Bundesliga': 'Bundesliga 1', \n",
    "    'Spanish Primera Division': 'La Liga',\n",
    "    'French Ligue 1': 'Ligue 1',\n",
    "    'Dutch Eredivisie': 'Eredivisie',\n",
    "    'Austrian T-Mobile Bundesliga': 'Tipp3 Bundesliga',\n",
    "    'Italy Serie A': 'Serie A',\n",
    "    'Portuguese Liga': 'Primeira Liga',\n",
    "    'Scottish Premiership': 'Premiership',\n",
    "    'Brasileiro Série A': 'Brasileiro de Aspirantes',\n",
    "    'United Soccer League': 'USL Championship',\n",
    " }\n"
   ]
  },
  {
   "cell_type": "code",
   "execution_count": null,
   "metadata": {},
   "outputs": [],
   "source": []
  }
 ],
 "metadata": {
  "interpreter": {
   "hash": "83244fc75ff76f901b23836256937dde79d06975152126052017f413defbe545"
  },
  "kernelspec": {
   "display_name": "Python 3.9.12 ('f1')",
   "language": "python",
   "name": "python3"
  },
  "language_info": {
   "codemirror_mode": {
    "name": "ipython",
    "version": 3
   },
   "file_extension": ".py",
   "mimetype": "text/x-python",
   "name": "python",
   "nbconvert_exporter": "python",
   "pygments_lexer": "ipython3",
   "version": "3.9.12"
  },
  "orig_nbformat": 4
 },
 "nbformat": 4,
 "nbformat_minor": 2
}
